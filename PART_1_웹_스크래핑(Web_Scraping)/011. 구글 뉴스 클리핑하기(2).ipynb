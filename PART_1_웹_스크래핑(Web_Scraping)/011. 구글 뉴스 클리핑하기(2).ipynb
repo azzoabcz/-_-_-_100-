{
 "cells": [
  {
   "cell_type": "code",
   "execution_count": 1,
   "metadata": {},
   "outputs": [
    {
     "name": "stdout",
     "output_type": "stream",
     "text": [
      "%ED%8C%8C%EC%9D%B4%EC%8D%AC\n"
     ]
    }
   ],
   "source": [
    "import requests\n",
    "from bs4 import BeautifulSoup\n",
    "import urllib\n",
    "\n",
    "# 구글 뉴스 검색어를 URL 코드 형식으로 인코딩\n",
    "keyword_input = '파이썬'\n",
    "keyword = urllib.parse.quote(keyword_input)\n",
    "print(keyword)"
   ]
  },
  {
   "cell_type": "code",
   "execution_count": 2,
   "metadata": {},
   "outputs": [
    {
     "name": "stdout",
     "output_type": "stream",
     "text": [
      "https://news.google.com/search?q=%ED%8C%8C%EC%9D%B4%EC%8D%AC&hl=ko&gl=KR&ceid=KR%3Ako\n"
     ]
    }
   ],
   "source": [
    "base_url = \"https://news.google.com\"\n",
    "search_url=base_url + \"/search?q=%ED%8C%8C%EC%9D%B4%EC%8D%AC&hl=ko&gl=KR&ceid=KR%3Ako\"\n",
    "print(search_url)"
   ]
  },
  {
   "cell_type": "code",
   "execution_count": 3,
   "metadata": {},
   "outputs": [],
   "source": [
    "# 함수화\n",
    "def google_news_clipping_keyword(keyword_input, limit=5):\n",
    "    keyword = urllib.parse.quote(keyword_input)\n",
    "    base_url = \"https://news.google.com\"\n",
    "    url = base_url + \"/search?q=\" + keyword + \"&hl=ko&gl=KR&ceid=KR%3Ako\"    \n",
    "    \n",
    "    resp=requests.get(search_url)\n",
    "    html_src=resp.text\n",
    "    soup=BeautifulSoup(html_src, 'html.parser')\n",
    "    \n",
    "    news_items=soup.select('div[class=\"xrnccd\"]')\n",
    "    \n",
    "    links=[]; titles=[]; contents=[]; agencies=[]; reporting_dates=[]; reporting_times=[];\n",
    "    \n",
    "    for item in news_items[:limit]:\n",
    "        link=item.find('a',attrs={'class':'VDXfz'}).get('href')\n",
    "        news_link=base_url + link[1:]\n",
    "        links.append(news_link)\n",
    "\n",
    "        news_title=item.find('a',attrs={'class':'DY5T1d'}).getText()\n",
    "        titles.append(news_title)\n",
    "\n",
    "        news_content=item.find('span',attrs={'class':'xBbh9'}).text\n",
    "        contents.append(news_content)\n",
    "\n",
    "        news_agency=item.find('a', attrs={'class':'wEwyrc AVN2gc uQIVzc Sksgp'}).text\n",
    "        agencies.append(news_agency)\n",
    "\n",
    "        news_reporting=item.find('time',attrs={'class':'WW6dff uQIVzc Sksgp'})\n",
    "        news_reporting_datetime=news_reporting.get('datetime').split('T')\n",
    "        news_reporting_date=news_reporting_datetime[0]\n",
    "        news_reporting_time=news_reporting_datetime[1][:-1]\n",
    "        reporting_dates.append(news_reporting_date)\n",
    "        reporting_times.append(news_reporting_time)\n",
    "        \n",
    "    result={'link':links, 'title':titles, 'contents':contents, 'agency':agencies, \\\n",
    "           'date':reporting_dates, 'time':reporting_times}\n",
    "    return result\n",
    "    "
   ]
  },
  {
   "cell_type": "code",
   "execution_count": 5,
   "metadata": {},
   "outputs": [
    {
     "name": "stdout",
     "output_type": "stream",
     "text": [
      "검색어입력모듈\n",
      "['https://news.google.com/articles/CBMiI2h0dHA6Ly93d3cuY2lva29yZWEuY29tL25ld3MvMTU2MjEy0gEA?hl=ko&gl=KR&ceid=KR%3Ako', 'https://news.google.com/articles/CAIiEGrXqjNKjQafkR5j2pC5vCAqGAgEKg8IACoHCAow3bSRAjCjoC4whv6SAg?hl=ko&gl=KR&ceid=KR%3Ako']\n"
     ]
    }
   ],
   "source": [
    "search_word = input(\"검색어입력\")\n",
    "news = google_news_clipping_keyword(search_word,2)\n",
    "print(news['link'])"
   ]
  },
  {
   "cell_type": "code",
   "execution_count": null,
   "metadata": {},
   "outputs": [],
   "source": []
  }
 ],
 "metadata": {
  "kernelspec": {
   "display_name": "Python 3",
   "language": "python",
   "name": "python3"
  },
  "language_info": {
   "codemirror_mode": {
    "name": "ipython",
    "version": 3
   },
   "file_extension": ".py",
   "mimetype": "text/x-python",
   "name": "python",
   "nbconvert_exporter": "python",
   "pygments_lexer": "ipython3",
   "version": "3.7.4"
  }
 },
 "nbformat": 4,
 "nbformat_minor": 2
}
