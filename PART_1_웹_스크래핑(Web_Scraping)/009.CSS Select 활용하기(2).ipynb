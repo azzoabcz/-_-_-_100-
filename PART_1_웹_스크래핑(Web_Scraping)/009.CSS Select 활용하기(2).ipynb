{
 "cells": [
  {
   "cell_type": "code",
   "execution_count": 3,
   "metadata": {},
   "outputs": [
    {
     "name": "stdout",
     "output_type": "stream",
     "text": [
      "953\n"
     ]
    }
   ],
   "source": [
    "import requests\n",
    "from bs4 import BeautifulSoup\n",
    "\n",
    "url=\"https://en.wikipedia.org/wiki/Seoul_Metropolitan_Subway\"\n",
    "resp=requests.get(url)\n",
    "html_src=resp.text\n",
    "soup=BeautifulSoup(html_src,'html.parser')\n",
    "\n",
    "links= soup.select('a')\n",
    "print(len(links))"
   ]
  },
  {
   "cell_type": "code",
   "execution_count": 4,
   "metadata": {},
   "outputs": [
    {
     "name": "stdout",
     "output_type": "stream",
     "text": [
      "[<a id=\"top\"></a>, <a class=\"mw-jump-link\" href=\"#mw-head\">Jump to navigation</a>, <a class=\"mw-jump-link\" href=\"#p-search\">Jump to search</a>]\n"
     ]
    }
   ],
   "source": [
    "print(links[:3])"
   ]
  },
  {
   "cell_type": "code",
   "execution_count": 6,
   "metadata": {},
   "outputs": [
    {
     "data": {
      "text/plain": [
       "[<a class=\"external text\" href=\"http://www.seoulmetro.co.kr/kr/board.do?menuIdx=548\" rel=\"nofollow\">\"자료실 : 알림마당&gt;자료실&gt;자료실\"</a>,\n",
       " <a class=\"external text\" href=\"http://www.korail.com/file/statistics/2012/2012-04.pdf\" rel=\"nofollow\">2012 Korail Statistics</a>,\n",
       " <a class=\"external text\" href=\"https://web.archive.org/web/20140227072212/http://www.korail.com/file/statistics/2012/2012-04.pdf\" rel=\"nofollow\">Archived</a>,\n",
       " <a class=\"external text\" href=\"https://web.archive.org/web/20120425051744/http://mltm.go.kr/USR/policyData/m_34681/dtl.jsp?id=422\" rel=\"nofollow\">\"Ministry of Land, Transport and Maritime Affairs of South Korea: Definition of Urban Rail and Wide-area Rail\"</a>,\n",
       " <a class=\"external text\" href=\"http://mltm.go.kr/USR/policyData/m_34681/dtl.jsp?id=422\" rel=\"nofollow\">the original</a>,\n",
       " <a class=\"external text\" href=\"http://www.railway-technology.com/projects/seoul-metro/\" rel=\"nofollow\">\"Seoul Metropolitan Subway\"</a>,\n",
       " <a class=\"external text\" href=\"http://futureheritage.seoul.go.kr/web/investigate/HeritageView.do?htId=1503&amp;pageIdx=41&amp;rowsPerPage=8&amp;searchGu=&amp;searchBunya=&amp;searchGubun=&amp;searchContents=&amp;searchCategory=\" rel=\"nofollow\">\"서울 지하철 1호선\"</a>,\n",
       " <a class=\"external text\" href=\"http://www.koreatimes.co.kr/www/news/nation/2011/02/117_81284.html\" rel=\"nofollow\">\"Seoul's first subway line opened in 1974\"</a>,\n",
       " <a class=\"external text\" href=\"http://www.korail.com/\" rel=\"nofollow\">\"Introducing Korail\"</a>,\n",
       " <a class=\"external text\" href=\"https://blog.naver.com/www.railway-technology.com/features/featurethe-worlds-longest-metro-and-subway-systems-4144725\" rel=\"nofollow\">\"The world's longest metro and subway systems\"</a>,\n",
       " <a class=\"external text\" href=\"http://travel.cnn.com/explorations/life/10-best-metro-systems-746919\" rel=\"nofollow\">\"What are the world's best metro systems?\"</a>,\n",
       " <a class=\"external text\" href=\"http://jalopnik.com/5958482/the-best-subway-systems-in-the-world\" rel=\"nofollow\">\"The Best Subway Systems In The World\"</a>,\n",
       " <a class=\"external text\" href=\"https://www.bbc.co.uk/news/world-22010533\" rel=\"nofollow\">\"Underground world: Seoul's 'super highway' v London's 'rude tube<span class=\"cs1-kern-right\">'</span>\"</a>,\n",
       " <a class=\"external text\" href=\"http://jymozart2000/70169605825\" rel=\"nofollow\">Screen doors installed in the Seoul Metropolitan Subway</a>,\n",
       " <a class=\"external text\" href=\"http://cafe.naver.com/smartvip/93554\" rel=\"nofollow\">\"대중교통 커뮤니티 - SBM (철도, 버스 이용자들의 공간) : 네이버 카페\"</a>,\n",
       " <a class=\"external text\" href=\"http://seoulistic.com/just-for-fun/10-reasons-why-the-seoul-subway-system-is-the-best/\" rel=\"nofollow\">\"10 Reasons Why the Seoul Subway System is the Best\"</a>,\n",
       " <a class=\"external text\" href=\"http://www.etnews.com/20150313000128\" rel=\"nofollow\">\"낙후한 지하철 1~4호선, 첨단 디스플레이 기술로 새단장 나선다\"</a>,\n",
       " <a class=\"external text\" href=\"https://play.google.com/store/apps/details?id=com.imagedrome.jihachul&amp;hl=en\" rel=\"nofollow\">\"Subway Korea - Android Apps on Google Play\"</a>,\n",
       " <a class=\"external text\" href=\"http://news.naver.com/main/read.nhn?mode=LSD&amp;mid=sec&amp;sid1=110&amp;oid=021&amp;aid=0000149835\" rel=\"nofollow\">\"&lt;오후여담&gt;좌측통행\"</a>,\n",
       " <a class=\"external text\" href=\"http://www.edaily.co.kr/news/news_detail.asp?newsId=02532166615865944&amp;mediaCodeNo=257\" rel=\"nofollow\">\"내년 지하철 9호선 마곡나루역 급행역사로 전환\"</a>,\n",
       " <a class=\"external text\" href=\"http://info.korail.com/mbs/english/subview.jsp?id=english_050202000000\" rel=\"nofollow\">\"Metro Lines &amp; Trains in Operation\"</a>,\n",
       " <a class=\"external text\" href=\"http://infra.seoul.go.kr/archives/1092\" rel=\"nofollow\"><bdi lang=\"ko\">지하철건설현황</bdi></a>,\n",
       " <a class=\"external text\" href=\"http://www.hani.co.kr/arti/english_edition/e_national/670732.html\" rel=\"nofollow\">\"Southern portion of inter-Korean railway to reopen\"</a>,\n",
       " <a class=\"external text\" href=\"http://kojects.com/2013/11/30/final-bundang-line-extension/\" rel=\"nofollow\">\"Final Bundang Line Extension Opens\"</a>,\n",
       " <a class=\"external text\" href=\"http://www.ui-line.com/html/comIntro/comIntro03/comIntro_03_00.php\" rel=\"nofollow\">\"우이신설도시철도에 오신결 환영합니다\"</a>,\n",
       " <a class=\"external text\" href=\"http://www.shinbundang.co.kr/index.jsp?pageID=/dxline/dxline7_1.jsp&amp;open_main=1&amp;open_sub1=8&amp;open_sub2=0\" rel=\"nofollow\">\"무인운전 시스템의 장점\"</a>,\n",
       " <a class=\"external text\" href=\"http://www.ictr.or.kr/eng/irtc/info.asp\" rel=\"nofollow\">\"General information\"</a>,\n",
       " <a class=\"external text\" href=\"https://web.archive.org/web/20140810222755/http://www.ever-line.co.kr/everline/bbs/content.php?co_id=everline\" rel=\"nofollow\">\"노선안내\"</a>,\n",
       " <a class=\"external text\" href=\"http://www.ever-line.co.kr/everline/bbs/content.php?co_id=everline\" rel=\"nofollow\">the original</a>,\n",
       " <a class=\"external text\" href=\"https://web.archive.org/web/20141102002906/https://www.ulrt.co.kr/intro/intro_09.do\" rel=\"nofollow\">\"사업개요\"</a>,\n",
       " <a class=\"external text\" href=\"https://www.ulrt.co.kr/intro/intro_09.do\" rel=\"nofollow\">the original</a>,\n",
       " <a class=\"external text\" href=\"http://shinbundang2.co.kr/\" rel=\"nofollow\">\"경기철도주식회사 - 신분당선\"</a>,\n",
       " <a class=\"external text\" href=\"http://cocowerk/140157431985\" rel=\"nofollow\">\"9호선/수도권 전철 읍데이트들 - Misc Subway Updates\"</a>,\n",
       " <a class=\"external text\" href=\"http://english.visitkorea.or.kr/enu/TRP/TP_ENG_8_1_2.jsp\" rel=\"nofollow\">\"Exclusive Tourist Cards\"</a>,\n",
       " <a class=\"external text\" href=\"https://www.t-money.co.kr/ncs/pct/tmnyintd/ReadFrgnMpassEngIntd.dev\" rel=\"nofollow\">\"Tmoney Only for Foreigners: We would like to introduce Tmoney for Foreign Tourists\"</a>,\n",
       " <a class=\"external text\" href=\"http://www.obsnews.co.kr/news/articleView.html?idxno=1138996\" rel=\"nofollow\">\"수인선, 전 구간 내년 상반기 개통…서수원 지하화 - OBS경인TV\"</a>,\n",
       " <a class=\"external text\" href=\"https://www.donga.com/news/article/all/20200611/101475514/1\" rel=\"nofollow\">\"수도권 잇는 철도망 잇따라 개통… \"출퇴근 편해지겠네<span class=\"cs1-kern-right\">\"</span>\"</a>,\n",
       " <a class=\"external text\" href=\"http://www.newsprime.co.kr/news/article.html?no=324291\" rel=\"nofollow\">\"김영선 \"대곡-소사 복선전철 사업 예산확보 힘쓸 터<span class=\"cs1-kern-right\">\"</span>\"</a>,\n",
       " <a class=\"external text\" href=\"http://frdb.wo.to/\" rel=\"nofollow\">\"固贰枚档DB\"</a>,\n",
       " <a class=\"external text\" href=\"http://news.kmib.co.kr/article/view.asp?arcid=0923440347&amp;code=11131411&amp;cp=nv\" rel=\"nofollow\">\"<span class=\"cs1-kern-left\">\"</span>25분 거리를 10분만에… 지역경제도 살아났으면\"… 27일 완전 재개통 앞둔 수인선 시범 운행\"</a>,\n",
       " <a class=\"external text\" href=\"https://blog.naver.com/lilipio123/221234006776\" rel=\"nofollow\">\"강동롯데캐슬 퍼스트와 8호선 연장\"</a>,\n",
       " <a class=\"external text\" href=\"http://www.newspim.com/news/view/20181025000678\" rel=\"nofollow\">\"위례신사선 민자사업, 추진 확정..2021년께 착공 예상\"</a>,\n",
       " <a class=\"external text\" href=\"https://namu.wiki/w/%EC%84%9C%EC%9A%B8%20%EA%B2%BD%EC%A0%84%EC%B2%A0%20%EC%9C%84%EB%A1%80%EC%84%A0\" rel=\"nofollow\">\"서울 경전철 위례선 - 나무위키\"</a>,\n",
       " <a class=\"external text\" href=\"http://www.hani.co.kr/arti/society/area/804040.html\" rel=\"nofollow\">\"속도내는 동북선 경전철…2019년 착공\"</a>,\n",
       " <a class=\"external text\" href=\"http://www.etoday.co.kr/news/section/newsview.php?idxno=1724399\" rel=\"nofollow\">\"[서울 도시철도망]강북횡단선 등 경전철 6개 노선 신설…서울 교통지도 바뀐다\"</a>,\n",
       " <a class=\"external text\" href=\"http://www.arirang.com/News/News_View.asp?nseq=231945\" rel=\"nofollow\">\"News View :: The World On Arirang\"</a>,\n",
       " <a class=\"external text\" href=\"http://news.chosun.com/site/data/html_dir/2019/02/20/2019022001204.html\" rel=\"nofollow\">\"2028년까지 목동~청량리 잇는 강북횡단선 등 경전철 6개 노선 신설\"</a>,\n",
       " <a class=\"external text\" href=\"http://www.womancs.co.kr/news/articleView.html?idxno=50151\" rel=\"nofollow\">\"우이신설역 연장 추진 확정, 솔밭공원~방학역 연결\"</a>,\n",
       " <a class=\"external text\" href=\"http://www.newspim.com/news/view/20190220000284\" rel=\"nofollow\">\"[서울 도시철도망] 면목선, 동대문·중랑 상습정체 구간 해소\"</a>,\n",
       " <a class=\"external text\" href=\"http://www.newspim.com/news/view/20190220000285\" rel=\"nofollow\">\"[서울 도시철도망] 난곡선, 남부순환로 이남 주거 밀집지 연결\"</a>,\n",
       " <a class=\"external text\" href=\"http://www.newspim.com/news/view/20190220000287\" rel=\"nofollow\">\"[서울 도시철도망] 목동선, 서부서울 철도 사각지대 해소\"</a>,\n",
       " <a class=\"external text\" href=\"http://www.newspim.com/news/view/20190221000446\" rel=\"nofollow\">\"<span class=\"cs1-kern-left\">\"</span>강북보다 서부\"..서울도시철도 수혜는 은평·신림·여의도\"</a>,\n",
       " <a class=\"external text\" href=\"http://www.asiae.co.kr/news/view.htm?idxno=2019022115232176847\" rel=\"nofollow\">\"강동구 지하철 9호선 강일동 연장안 서울시 도시철도망 반영\"</a>,\n",
       " <a class=\"external text\" href=\"http://info.korail.com/2007/eng/eng_index.jsp\" rel=\"nofollow\">Korail</a>,\n",
       " <a class=\"external text\" href=\"http://www.seoulmetro.co.kr/en/\" rel=\"nofollow\">Seoul Metro</a>,\n",
       " <a class=\"external text\" href=\"https://web.archive.org/web/20131016031736/http://www.smrt.co.kr/Eng/index.jsp\" rel=\"nofollow\">Seoul Metropolitan Rapid Transit Corporation</a>,\n",
       " <a class=\"external text\" href=\"https://web.archive.org/web/20131007100109/http://shinbundang.co.kr/eng/main/main.jsp\" rel=\"nofollow\">Shinbundang Line</a>,\n",
       " <a class=\"external text\" href=\"https://web.archive.org/web/20120414225109/http://www.smrt.co.kr/program/cyberStation/main2.jsp?lang=e\" rel=\"nofollow\">Cyber Station - Map, station and route finder</a>,\n",
       " <a class=\"external text\" href=\"https://web.archive.org/web/20130309085521/http://www.visitseoul.net/en/article/article.do?_method=view&amp;m=0004007003003&amp;p=07&amp;art_id=31644&amp;lang=en\" rel=\"nofollow\">The Seoul Underground Subway: Official Seoul Tourism</a>,\n",
       " <a class=\"external text\" href=\"https://web.archive.org/web/20120205092033/http://subway.seoul.go.kr/images/eng_seoul_subway.wmv\" rel=\"nofollow\">English-language WMV video</a>,\n",
       " <a class=\"external text\" href=\"https://en.wikipedia.org/w/index.php?title=Template:Public_transport_in_the_Seoul_Metropolitan_Area&amp;action=edit\"><abbr style=\";background:#ae1932; color:white;;background:none transparent;border:none;-moz-box-shadow:none;-webkit-box-shadow:none;box-shadow:none; padding:0;\" title=\"Edit this template\">e</abbr></a>,\n",
       " <a class=\"external text\" href=\"https://en.wikipedia.org/w/index.php?title=Template:South_Korea_rapid_transit&amp;action=edit\"><abbr style=\";;background:none transparent;border:none;-moz-box-shadow:none;-webkit-box-shadow:none;box-shadow:none; padding:0;\" title=\"Edit this template\">e</abbr></a>]"
      ]
     },
     "execution_count": 6,
     "metadata": {},
     "output_type": "execute_result"
    }
   ],
   "source": [
    "external_links=soup.select('a[class=\"external text\"]')\n",
    "external_links"
   ]
  },
  {
   "cell_type": "code",
   "execution_count": 7,
   "metadata": {},
   "outputs": [
    {
     "data": {
      "text/plain": [
       "[<div class=\"mw-body-content\" id=\"siteNotice\"><!-- CentralNotice --></div>]"
      ]
     },
     "execution_count": 7,
     "metadata": {},
     "output_type": "execute_result"
    }
   ],
   "source": [
    "id_selector = soup.select('#siteNotice')\n",
    "id_selector"
   ]
  },
  {
   "cell_type": "code",
   "execution_count": 8,
   "metadata": {},
   "outputs": [
    {
     "data": {
      "text/plain": [
       "[<div class=\"mw-body-content\" id=\"siteNotice\"><!-- CentralNotice --></div>]"
      ]
     },
     "execution_count": 8,
     "metadata": {},
     "output_type": "execute_result"
    }
   ],
   "source": [
    "id_selector2 = soup.select('div#siteNotice')\n",
    "id_selector2"
   ]
  },
  {
   "cell_type": "code",
   "execution_count": 9,
   "metadata": {},
   "outputs": [
    {
     "data": {
      "text/plain": [
       "[]"
      ]
     },
     "execution_count": 9,
     "metadata": {},
     "output_type": "execute_result"
    }
   ],
   "source": [
    "id_selector3 = soup.select('p#siteNotice')\n",
    "id_selector3"
   ]
  },
  {
   "cell_type": "code",
   "execution_count": 10,
   "metadata": {},
   "outputs": [
    {
     "data": {
      "text/plain": [
       "[<span class=\"mw-headline\" id=\"Overview\">Overview</span>,\n",
       " <span class=\"mw-headline\" id=\"History\">History</span>,\n",
       " <span class=\"mw-headline\" id=\"Lines_and_branches\">Lines and branches</span>,\n",
       " <span class=\"mw-headline\" id=\"Rolling_stock\">Rolling stock</span>,\n",
       " <span class=\"mw-headline\" id=\"Fares_and_ticketing\">Fares and ticketing</span>,\n",
       " <span class=\"mw-headline\" id=\"Current_construction\">Current construction</span>,\n",
       " <span class=\"mw-headline\" id=\"Opening_2020\">Opening 2020</span>,\n",
       " <span class=\"mw-headline\" id=\"Opening_2021\">Opening 2021</span>,\n",
       " <span class=\"mw-headline\" id=\"Opening_2022\">Opening 2022</span>,\n",
       " <span class=\"mw-headline\" id=\"Opening_2023\">Opening 2023</span>,\n",
       " <span class=\"mw-headline\" id=\"Tentative\">Tentative</span>,\n",
       " <span class=\"mw-headline\" id=\"Under_planning\">Under planning</span>,\n",
       " <span class=\"mw-headline\" id=\"Seoul_City\">Seoul City</span>,\n",
       " <span class=\"mw-headline\" id=\"Incheon_City\">Incheon City</span>,\n",
       " <span class=\"mw-headline\" id=\"Network_map\">Network map</span>,\n",
       " <span class=\"mw-headline\" id=\"See_also\">See also</span>,\n",
       " <span class=\"mw-headline\" id=\"Notes\">Notes</span>,\n",
       " <span class=\"mw-headline\" id=\"References\">References</span>,\n",
       " <span class=\"mw-headline\" id=\"External_links\">External links</span>]"
      ]
     },
     "execution_count": 10,
     "metadata": {},
     "output_type": "execute_result"
    }
   ],
   "source": [
    "class_selector=soup.select('.mw-headline')\n",
    "class_selector"
   ]
  },
  {
   "cell_type": "code",
   "execution_count": 11,
   "metadata": {},
   "outputs": [
    {
     "data": {
      "text/plain": [
       "[<span class=\"mw-headline\" id=\"Overview\">Overview</span>,\n",
       " <span class=\"mw-headline\" id=\"History\">History</span>,\n",
       " <span class=\"mw-headline\" id=\"Lines_and_branches\">Lines and branches</span>,\n",
       " <span class=\"mw-headline\" id=\"Rolling_stock\">Rolling stock</span>,\n",
       " <span class=\"mw-headline\" id=\"Fares_and_ticketing\">Fares and ticketing</span>,\n",
       " <span class=\"mw-headline\" id=\"Current_construction\">Current construction</span>,\n",
       " <span class=\"mw-headline\" id=\"Opening_2020\">Opening 2020</span>,\n",
       " <span class=\"mw-headline\" id=\"Opening_2021\">Opening 2021</span>,\n",
       " <span class=\"mw-headline\" id=\"Opening_2022\">Opening 2022</span>,\n",
       " <span class=\"mw-headline\" id=\"Opening_2023\">Opening 2023</span>,\n",
       " <span class=\"mw-headline\" id=\"Tentative\">Tentative</span>,\n",
       " <span class=\"mw-headline\" id=\"Under_planning\">Under planning</span>,\n",
       " <span class=\"mw-headline\" id=\"Seoul_City\">Seoul City</span>,\n",
       " <span class=\"mw-headline\" id=\"Incheon_City\">Incheon City</span>,\n",
       " <span class=\"mw-headline\" id=\"Network_map\">Network map</span>,\n",
       " <span class=\"mw-headline\" id=\"See_also\">See also</span>,\n",
       " <span class=\"mw-headline\" id=\"Notes\">Notes</span>,\n",
       " <span class=\"mw-headline\" id=\"References\">References</span>,\n",
       " <span class=\"mw-headline\" id=\"External_links\">External links</span>]"
      ]
     },
     "execution_count": 11,
     "metadata": {},
     "output_type": "execute_result"
    }
   ],
   "source": [
    "class_selector2=soup.select('span.mw-headline')\n",
    "class_selector2"
   ]
  },
  {
   "cell_type": "code",
   "execution_count": null,
   "metadata": {},
   "outputs": [],
   "source": []
  }
 ],
 "metadata": {
  "kernelspec": {
   "display_name": "Python 3",
   "language": "python",
   "name": "python3"
  },
  "language_info": {
   "codemirror_mode": {
    "name": "ipython",
    "version": 3
   },
   "file_extension": ".py",
   "mimetype": "text/x-python",
   "name": "python",
   "nbconvert_exporter": "python",
   "pygments_lexer": "ipython3",
   "version": "3.7.4"
  }
 },
 "nbformat": 4,
 "nbformat_minor": 2
}
