{
 "cells": [
  {
   "cell_type": "code",
   "execution_count": 1,
   "metadata": {},
   "outputs": [],
   "source": [
    "from selenium import webdriver\n",
    "from bs4 import BeautifulSoup\n",
    "import time"
   ]
  },
  {
   "cell_type": "code",
   "execution_count": 2,
   "metadata": {},
   "outputs": [],
   "source": [
    "# 통계지표 검색어를 입력하여, csv 파일로 저장하기\n",
    "def download_bok_statistics_by_keyword():\n",
    "    item_found =0\n",
    "    while not item_found:\n",
    "        \n",
    "        # 검색어 초기화\n",
    "        keyword = \"\"\n",
    "        while len(keyword) == 0:\n",
    "            keyword = str(input(\"검색할 항목을 입력하세요: \"))\n",
    "            \n",
    "        # 웹 드라이버실행\n",
    "        driver = webdriver.Chrome(\"./chromedriver_win32_83.0.4103.39/chromedriver.exe\")\n",
    "        driver.implicitly_wait(3)\n",
    "        driver.get(\"http://ecos.bok.or.kr/jsp/vis/keystat/#/key\")\n",
    "        time.sleep(5)\n",
    "        \n",
    "        items1 = driver.find_elements_by_css_selector('a[class=\"ng-binding\"]')\n",
    "        items2 = driver.find_elements_by_css_selector('a[class=\"a-c1-list ng-binding\"]')\n",
    "        items3 = driver.find_elements_by_css_selector('a[class=\"a-c4-list ng-binding\"]')\n",
    "#         print(items1)\n",
    "#         print(items2)\n",
    "#         print(items3)\n",
    "        \n",
    "        driver.implicitly_wait(3)\n",
    "        \n",
    "        items = items1[1:] + items2 + items3\n",
    "        \n",
    "        for idx, item in enumerate(items):\n",
    "            if keyword in item.text:\n",
    "                print(\"검색어 '%s'에 매칭되는 '%s' 통계지표를 검색중..\" % (keyword, item.text))\n",
    "                item.click()\n",
    "                item_found = 1\n",
    "                time.sleep(5)\n",
    "                break\n",
    "            elif idx == (len(items) - 1):\n",
    "                print(\"검색어 '%s' 에 대한 통계지표가 존재하지 않습니다..\" % keyword)\n",
    "                driver.close()\n",
    "                continue\n",
    "            else:\n",
    "                pass\n",
    "    # 검색결과 로딩 HTML 웹 페이지를 파싱-통계지표 테이블(표)양식 정리\n",
    "    html_src = driver.page_source\n",
    "    soup = BeautifulSoup(html_src, 'html.parser')\n",
    "    driver.close()\n",
    "    \n",
    "    table_items = soup.find_all('td', {'class':'ng-binding'})\n",
    "    date = [t.text for i, t in enumerate(table_items) if i % 3 == 0]\n",
    "    # print(date)\n",
    "    value = [t.text for i, t in enumerate(table_items) if i % 3 == 1]\n",
    "    change = [t.text for i, t in enumerate(table_items) if i % 3 == 2]\n",
    "    \n",
    "    # csv로 저장\n",
    "    result_file = open('./data/bok_statistics_%s.csv' % keyword, 'w')\n",
    "    \n",
    "    for i in range(len(date)):\n",
    "        result_file.write(\"%s, %s, %s\" % (date[i], value[i], change[i]))\n",
    "        result_file.write('\\n')\n",
    "    \n",
    "    result_file.close()\n",
    "    print(\"키워드 '%s'에 대한 통계지표를 저장하였다.\" % keyword)\n",
    "    \n",
    "    return date, value, change      "
   ]
  },
  {
   "cell_type": "code",
   "execution_count": 3,
   "metadata": {},
   "outputs": [
    {
     "name": "stdout",
     "output_type": "stream",
     "text": [
      "검색할 항목을 입력하세요: CD수익률\n",
      "검색어 'CD수익률'에 매칭되는 'CD수익률(91일) ('20.07.01)' 통계지표를 검색중..\n",
      "키워드 'CD수익률'에 대한 통계지표를 저장하였다.\n",
      "(['2013', '2014', '2015', '2016', '2017', '2018', '2019', '2019.12', '2020.1', '2020.2', '2020.3', '2020.4', '2020.5', '2020.6', '2020.6.24', '2020.6.25', '2020.6.26', '2020.6.29', '2020.6.30', '2020.7.1'], ['2.72', '2.49', '1.76', '1.49', '1.44', '1.68', '1.69', '1.53', '1.47', '1.42', '1.23', '1.10', '1.02', '0.79', '0.79', '0.79', '0.79', '0.79', '0.79', '0.79'], ['-0.58', '-0.23', '-0.73', '-0.27', '-0.05', '0.24', '0.01', '0.01', '-0.06', '-0.05', '-0.19', '-0.13', '-0.08', '-0.23', '0.00', '0.00', '0.00', '0.00', '0.00', '0.00'])\n"
     ]
    }
   ],
   "source": [
    "# 함수실행 # CD\n",
    "result = download_bok_statistics_by_keyword()\n",
    "print(result)"
   ]
  },
  {
   "cell_type": "code",
   "execution_count": null,
   "metadata": {},
   "outputs": [],
   "source": [
    "CD수익률"
   ]
  }
 ],
 "metadata": {
  "kernelspec": {
   "display_name": "Python 3",
   "language": "python",
   "name": "python3"
  },
  "language_info": {
   "codemirror_mode": {
    "name": "ipython",
    "version": 3
   },
   "file_extension": ".py",
   "mimetype": "text/x-python",
   "name": "python",
   "nbconvert_exporter": "python",
   "pygments_lexer": "ipython3",
   "version": "3.7.4"
  }
 },
 "nbformat": 4,
 "nbformat_minor": 2
}
