{
 "cells": [
  {
   "cell_type": "code",
   "execution_count": 1,
   "metadata": {},
   "outputs": [],
   "source": [
    "# https://news.google.com/search?q=%ED%8C%8C%EC%9D%B4%EC%8D%AC&hl=ko&gl=KR&ceid=KR%3Ako\n",
    "# search?q  >> 로봇접근허용"
   ]
  },
  {
   "cell_type": "code",
   "execution_count": 2,
   "metadata": {},
   "outputs": [],
   "source": [
    "import requests\n",
    "from bs4 import BeautifulSoup\n"
   ]
  },
  {
   "cell_type": "code",
   "execution_count": 3,
   "metadata": {},
   "outputs": [],
   "source": [
    "# 구글 뉴스검색(검색어 : 파이썬)\n",
    "base_url=\"https://news.google.com\"\n",
    "search_url=base_url + \"/search?q=%ED%8C%8C%EC%9D%B4%EC%8D%AC&hl=ko&gl=KR&ceid=KR%3Ako\"\n",
    "resp=requests.get(search_url)\n",
    "html_src=resp.text\n",
    "soup=BeautifulSoup(html_src, 'html.parser')"
   ]
  },
  {
   "cell_type": "code",
   "execution_count": 8,
   "metadata": {
    "collapsed": true
   },
   "outputs": [
    {
     "data": {
      "text/plain": [
       "<div class=\"xrnccd\"><article class=\" MQsxIb xTewfe R7GTQ keNKEd j7vNaf Cc0Z5d EjqUne\" data-kind=\"2\" data-n-cvid=\"i5\" data-n-et=\"107\" data-n-ham=\"true\" data-n-vlb=\"0\" jsaction=\";rcuQ6b:npT2md; click:KjsqPd;EXlHgb:HQ4Dqd\" jscontroller=\"mhFxVb\" jsdata=\"oM6qxc;CAIiEGrXqjNKjQafkR5j2pC5vCAqGAgEKg8IACoHCAow3bSRAjCjoC4whv6SAg;4\" jslog=\"85008\" jsmodel=\"QWGJif hT8rr\"><a aria-hidden=\"true\" class=\"VDXfz\" href=\"./articles/CAIiEGrXqjNKjQafkR5j2pC5vCAqGAgEKg8IACoHCAow3bSRAjCjoC4whv6SAg?hl=ko&amp;gl=KR&amp;ceid=KR%3Ako\" jslog=\"95014; 5:W251bGwsbnVsbCxudWxsLG51bGwsbnVsbCxudWxsLG51bGwsbnVsbCwiaHR0cDovL3d3dy5uZXdzY2ouY29tL25ld3MvYXJ0aWNsZVZpZXcuaHRtbD9pZHhub1x1MDAzZDc0OTg1MiJd; track:click\" jsname=\"hXwDdf\" tabindex=\"-1\" target=\"_blank\"></a><h3 class=\"ipQwMb ekueJc gEATFF RD0gLb\"><a class=\"DY5T1d\" href=\"./articles/CAIiEGrXqjNKjQafkR5j2pC5vCAqGAgEKg8IACoHCAow3bSRAjCjoC4whv6SAg?hl=ko&amp;gl=KR&amp;ceid=KR%3Ako\">새 시대 희망언론</a></h3><div aria-hidden=\"true\" class=\"Da10Tb gEABFF Rai5ob\" jsname=\"jVqMGc\"><span class=\"xBbh9\">초등 고학년부터 필수인 코딩, 주인공 '엘리스 토끼'와 함께 게임하듯 배워볼까. 1766가지 그림과 45가지 코딩 문제를 풀다 보면 코딩 능력과 컴퓨터 사고력을 동시에 ...</span></div><div class=\"QmrVtf RD0gLb\"><div class=\"SVJrMe gEAMFF \" jsname=\"Hn1wIf\"><span aria-hidden=\"true\" class=\"DPvwYc N3ElHc hEsB5d eLNT1d uQIVzc\" jsname=\"boXlNc\">amp</span><span aria-hidden=\"true\" class=\"DPvwYc N3ElHc gQtGhf eLNT1d uQIVzc\">video_youtube</span><a class=\"wEwyrc AVN2gc uQIVzc Sksgp\" href=\"./publications/CAAqBwgKMN20kQIwo6Au?hl=ko&amp;gl=KR&amp;ceid=KR%3Ako\">천지일보</a><time class=\"WW6dff uQIVzc Sksgp\" datetime=\"2020-06-20T23:26:19Z\">4일 전</time></div><menu class=\"fmkQje gXqRq\"><div class=\"OGsJDe L8PZAb R71ogd\" data-n-ca-at=\"2\" data-n-et=\"1000\" data-n-st=\"bookmark\" jsaction=\"rcuQ6b:npT2md;JIbuQc:h5M12e;eEPUnd:h5M12e;YohPuc:CE7Jad;\" jscontroller=\"j3kq0e\" jsdata=\"oM6qxc;CAIiEGrXqjNKjQafkR5j2pC5vCAqGAgEKg8IACoHCAow3bSRAjCjoC4whv6SAg;4\" jsmodel=\"Vf5Xdc\" jsname=\"ms4Zd\"><div aria-disabled=\"false\" class=\"U26fgb YOnsCc waNn5b ZqhUjb ztUP4e uUmIDd cd29Sd V3dfMc w0hkKb \" data-n-et=\"1000\" jsaction=\"click:cOuCgd; mousedown:UX7yZ; mouseup:lbsD7e; mouseenter:tfO1Yc; mouseleave:JywGue; focus:AHmuwe; blur:O22p3e; contextmenu:mg9Pef;touchstart:p6p2H; touchmove:FwuNnf; touchend:yfqBxc(preventMouseEvents=true|preventDefault=true); touchcancel:JMtRjd;;OuuAFc:UauMyf;gSufsc:BS8cLb;RyWlBb:tC9Erd;UTnG9:aDaYxb;nUyoxf:El6wk;\" jscontroller=\"nGXkff\" jsname=\"itaskb\" jsshadow=\"\" role=\"button\" tabindex=\"0\"><div class=\"XI1L0d\" jsname=\"ksKsZd\"></div><span aria-hidden=\"true\" class=\"DPvwYc ChwdAb Xd067b fAk9Qc\" jsname=\"BC5job\">bookmark_border</span></div></div><span class=\"L8PZAb uG2FLd\" data-n-ca-at=\"8\" data-n-et=\"1000\" jsaction=\"JIbuQc:RNDhHe;\" jscontroller=\"ewrQ6c\" jsdata=\"oM6qxc;CAIiEGrXqjNKjQafkR5j2pC5vCAqGAgEKg8IACoHCAow3bSRAjCjoC4whv6SAg;4\" jslog=\"93393\" jsmodel=\"cQe25d hECoeb\"><div aria-disabled=\"false\" aria-label=\"공유\" class=\"U26fgb YOnsCc waNn5b ZqhUjb ztUP4e uUmIDd cd29Sd V3dfMc w0hkKb \" data-n-et=\"1000\" data-tooltip=\"공유\" data-tooltip-horizontal-offset=\"0\" data-tooltip-vertical-offset=\"-12\" jsaction=\"click:cOuCgd; mousedown:UX7yZ; mouseup:lbsD7e; mouseenter:tfO1Yc; mouseleave:JywGue; focus:AHmuwe; blur:O22p3e; contextmenu:mg9Pef;touchstart:p6p2H; touchmove:FwuNnf; touchend:yfqBxc(preventMouseEvents=true|preventDefault=true); touchcancel:JMtRjd;;OuuAFc:UauMyf;gSufsc:BS8cLb;RyWlBb:tC9Erd;UTnG9:aDaYxb;nUyoxf:El6wk;\" jscontroller=\"nGXkff\" jsname=\"itaskb\" jsshadow=\"\" role=\"button\" tabindex=\"0\"><div class=\"XI1L0d\" jsname=\"ksKsZd\"></div><span aria-hidden=\"true\" class=\"DPvwYc ChwdAb Xd067b fAk9Qc\" jsname=\"BC5job\">share</span></div></span><span class=\" L8PZAb GB1Zid\" data-n-prms=\"[false,false,false,null]\" jsaction=\"rcuQ6b:npT2md;aWRkAb:u0WEMd;h4C2te:Oy8cwd;\" jscontroller=\"Md9Mid\" jsdata=\"oM6qxc;CAIiEGrXqjNKjQafkR5j2pC5vCAqGAgEKg8IACoHCAow3bSRAjCjoC4whv6SAg;4\" jsmodel=\"jZ86ec Vf5Xdc\"><div aria-disabled=\"false\" aria-expanded=\"false\" aria-haspopup=\"true\" aria-label=\"더보기\" class=\"U26fgb YOnsCc waNn5b ZqhUjb ztUP4e uUmIDd gL67me cd29Sd V3dfMc w0hkKb \" data-dynamic=\"true\" data-tooltip=\"더보기\" data-tooltip-horizontal-offset=\"0\" data-tooltip-vertical-offset=\"-12\" jsaction=\"click:cOuCgd; mousedown:UX7yZ; mouseup:lbsD7e; mouseenter:tfO1Yc; mouseleave:JywGue; focus:AHmuwe; blur:O22p3e; contextmenu:mg9Pef;touchstart:p6p2H; touchmove:FwuNnf; touchend:yfqBxc(preventMouseEvents=true|preventDefault=true); touchcancel:JMtRjd;;keydown:I481le;OuuAFc:UauMyf;gSufsc:BS8cLb;RyWlBb:tC9Erd;UTnG9:aDaYxb;nUyoxf:El6wk;\" jscontroller=\"Ui93ue\" jsname=\"itaskb\" jsshadow=\"\" role=\"button\" tabindex=\"0\"><div class=\"XI1L0d\" jsname=\"ksKsZd\"></div><span aria-hidden=\"true\" class=\"DPvwYc ChwdAb Xd067b fAk9Qc\" jsname=\"BC5job\">more_vert</span></div></span></menu></div></article></div>"
      ]
     },
     "execution_count": 8,
     "metadata": {},
     "output_type": "execute_result"
    }
   ],
   "source": [
    "# 뉴스 아이템블록을 선택\n",
    "news_items=soup.select('div[class=\"xrnccd\"]')\n",
    "len(news_items)\n",
    "news_items[0]"
   ]
  },
  {
   "cell_type": "code",
   "execution_count": 20,
   "metadata": {
    "collapsed": true
   },
   "outputs": [
    {
     "name": "stdout",
     "output_type": "stream",
     "text": [
      "https://news.google.com/articles/CAIiEGrXqjNKjQafkR5j2pC5vCAqGAgEKg8IACoHCAow3bSRAjCjoC4whv6SAg?hl=ko&gl=KR&ceid=KR%3Ako\n",
      "새 시대 희망언론\n",
      "초등 고학년부터 필수인 코딩, 주인공 '엘리스 토끼'와 함께 게임하듯 배워볼까. 1766가지 그림과 45가지 코딩 문제를 풀다 보면 코딩 능력과 컴퓨터 사고력을 동시에 ...\n",
      "천지일보\n",
      "2020-06-20 23:26:19\n",
      "https://news.google.com/articles/CBMiI2h0dHA6Ly93d3cuY2lva29yZWEuY29tL25ld3MvMTU0MDEz0gEA?hl=ko&gl=KR&ceid=KR%3Ako\n",
      "줄리아 vs. 파이썬··· 데이터 과학과 '케미' 좋은 언어는?\n",
      "파이썬의 여러 응용 분야 가운데 아마도 데이터 애널리틱스가 가장 크고 중요할 것이다. 파이썬 진영에는 과학 컴퓨팅과 데이터 분석 작업을 신속하고 편리하게 ...\n",
      "CIO Korea\n",
      "2020-05-29 07:00:00\n",
      "https://news.google.com/articles/CAIiEErM3w3E9vOWjWJOuZngW9cqGQgEKhAIACoHCAow3tTdCjDn49MBMJSE0AY?hl=ko&gl=KR&ceid=KR%3Ako\n",
      "'딥러닝·자율주행·파이썬'…국립중앙과학관, 원격 AI 교육 선보인다\n",
      "국립중앙과학관은 3월 시행 예정이었으나 연기됐던 초·중·고등학생을 대상으로 인공지능 체험교육프로그램을 6월부터 시작한다고 8일 밝혔다. 신종 코로나바이러스 ...\n",
      "뉴스1\n",
      "2020-06-07 21:14:27\n"
     ]
    }
   ],
   "source": [
    "# 각 뉴스 아이템에서 \"링크,제목,내용,출처,등록일시\" 데이터 파싱\n",
    "for item in news_items[:3]:\n",
    "    link=item.find('a',attrs={'class':'VDXfz'}).get('href')\n",
    "    news_links=base_url + link[1:]\n",
    "    print(news_links)\n",
    "    \n",
    "    news_title=item.find('a',attrs={'class':'DY5T1d'}).getText()\n",
    "    print(news_title)\n",
    "    \n",
    "    news_content=item.find('span',attrs={'class':'xBbh9'}).text\n",
    "    print(news_content)\n",
    "    \n",
    "    news_agency=item.find('a', attrs={'class':'wEwyrc AVN2gc uQIVzc Sksgp'}).text\n",
    "    print(news_agency)\n",
    "    \n",
    "    news_reporting=item.find('time',attrs={'class':'WW6dff uQIVzc Sksgp'})\n",
    "#     print(news_reporting)\n",
    "    news_reporting_datetime=news_reporting.get('datetime').split('T')\n",
    "    news_reporting_date=news_reporting_datetime[0]\n",
    "    news_reporting_time=news_reporting_datetime[1][:-1]\n",
    "    print(news_reporting_date,news_reporting_time)\n",
    "    "
   ]
  },
  {
   "cell_type": "code",
   "execution_count": 23,
   "metadata": {},
   "outputs": [],
   "source": [
    "# 함수화\n",
    "def google_news_clipping(url, limit=5):\n",
    "    resp=requests.get(search_url)\n",
    "    html_src=resp.text\n",
    "    soup=BeautifulSoup(html_src, 'html.parser')\n",
    "    \n",
    "    news_items=soup.select('div[class=\"xrnccd\"]')\n",
    "    \n",
    "    links=[]; titles=[]; contents=[]; agencies=[]; reporting_dates=[]; reporting_times=[];\n",
    "    \n",
    "    for item in news_items[:limit]:\n",
    "        link=item.find('a',attrs={'class':'VDXfz'}).get('href')\n",
    "        news_link=base_url + link[1:]\n",
    "        links.append(news_link)\n",
    "\n",
    "        news_title=item.find('a',attrs={'class':'DY5T1d'}).getText()\n",
    "        titles.append(news_title)\n",
    "\n",
    "        news_content=item.find('span',attrs={'class':'xBbh9'}).text\n",
    "        contents.append(news_content)\n",
    "\n",
    "        news_agency=item.find('a', attrs={'class':'wEwyrc AVN2gc uQIVzc Sksgp'}).text\n",
    "        agencies.append(news_agency)\n",
    "\n",
    "        news_reporting=item.find('time',attrs={'class':'WW6dff uQIVzc Sksgp'})\n",
    "        news_reporting_datetime=news_reporting.get('datetime').split('T')\n",
    "        news_reporting_date=news_reporting_datetime[0]\n",
    "        news_reporting_time=news_reporting_datetime[1][:-1]\n",
    "        reporting_dates.append(news_reporting_date)\n",
    "        reporting_times.append(news_reporting_time)\n",
    "        \n",
    "    result={'link':links, 'title':titles, 'contents':contents, 'agency':agencies, \\\n",
    "           'date':reporting_dates, 'time':reporting_times}\n",
    "    return result\n",
    "    "
   ]
  },
  {
   "cell_type": "code",
   "execution_count": 24,
   "metadata": {},
   "outputs": [
    {
     "name": "stdout",
     "output_type": "stream",
     "text": [
      "{'link': ['https://news.google.com/articles/CBMiI2h0dHA6Ly93d3cuY2lva29yZWEuY29tL25ld3MvMTU2MjEy0gEA?hl=ko&gl=KR&ceid=KR%3Ako', 'https://news.google.com/articles/CAIiEGrXqjNKjQafkR5j2pC5vCAqGAgEKg8IACoHCAow3bSRAjCjoC4whv6SAg?hl=ko&gl=KR&ceid=KR%3Ako'], 'title': [\"'Pipenv'로 파이썬 프로젝트를 관리하는 방법\", '새 시대 희망언론'], 'contents': [\"파이썬(Python)의 패키지 생태계는 다른 수백만 개발자의 작업을 간단한 'pip 설치(pip install)' 명령어로 활용하게 해 준다. 파이썬의 가상 환경은 프로젝트와 그 ...\", \"초등 고학년부터 필수인 코딩, 주인공 '엘리스 토끼'와 함께 게임하듯 배워볼까. 1766가지 그림과 45가지 코딩 문제를 풀다 보면 코딩 능력과 컴퓨터 사고력을 동시에 ...\"], 'agency': ['CIO Korea', '천지일보'], 'date': ['2020-06-23', '2020-06-20'], 'time': ['05:36:02', '23:26:19']}\n"
     ]
    }
   ],
   "source": [
    "news=google_news_clipping(search_url,2)\n",
    "print(news)"
   ]
  },
  {
   "cell_type": "code",
   "execution_count": null,
   "metadata": {},
   "outputs": [],
   "source": []
  }
 ],
 "metadata": {
  "kernelspec": {
   "display_name": "Python 3",
   "language": "python",
   "name": "python3"
  },
  "language_info": {
   "codemirror_mode": {
    "name": "ipython",
    "version": 3
   },
   "file_extension": ".py",
   "mimetype": "text/x-python",
   "name": "python",
   "nbconvert_exporter": "python",
   "pygments_lexer": "ipython3",
   "version": "3.7.4"
  }
 },
 "nbformat": 4,
 "nbformat_minor": 2
}
