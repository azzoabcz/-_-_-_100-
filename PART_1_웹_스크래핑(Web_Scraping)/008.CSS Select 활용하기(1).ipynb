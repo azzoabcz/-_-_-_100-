{
 "cells": [
  {
   "cell_type": "code",
   "execution_count": 1,
   "metadata": {},
   "outputs": [],
   "source": [
    "import requests\n",
    "from bs4 import BeautifulSoup"
   ]
  },
  {
   "cell_type": "code",
   "execution_count": 2,
   "metadata": {},
   "outputs": [],
   "source": [
    "url=\"https://en.wikipedia.org/wiki/Seoul_Metropolitan_Subway\"\n",
    "resp=requests.get(url)\n",
    "html_src=resp.text\n",
    "soup=BeautifulSoup(html_src,'html.parser')"
   ]
  },
  {
   "cell_type": "code",
   "execution_count": 3,
   "metadata": {},
   "outputs": [],
   "source": [
    "subway_image=soup.select('#mw-content-text > div > table:nth-of-type(3) > tbody > tr:nth-of-type(2) > td')\n"
   ]
  },
  {
   "cell_type": "code",
   "execution_count": 4,
   "metadata": {},
   "outputs": [
    {
     "data": {
      "text/plain": [
       "[]"
      ]
     },
     "execution_count": 4,
     "metadata": {},
     "output_type": "execute_result"
    }
   ],
   "source": [
    "soup.select('#mw-content-text > div > table:nth-of-type(3) > tbody > tr:nth-of-type(2) > td > a > img')"
   ]
  },
  {
   "cell_type": "code",
   "execution_count": 5,
   "metadata": {},
   "outputs": [
    {
     "name": "stdout",
     "output_type": "stream",
     "text": [
      "[<td style=\"text-align:center\"><span style=\"background-color:#0D3692;border:1px solid #000\">    </span> <a href=\"/wiki/Seoul_Subway_Line_1\" title=\"Seoul Subway Line 1\">Line 1</a>\n",
      "</td>, <td><a href=\"/wiki/Soyosan_station\" title=\"Soyosan station\">Soyosan</a>\n",
      "</td>, <td><a href=\"/wiki/Incheon_station\" title=\"Incheon station\">Incheon</a> / <a href=\"/wiki/Sinchang_station\" title=\"Sinchang station\">Sinchang</a> / <a href=\"/wiki/Gwangmyeong_station\" title=\"Gwangmyeong station\">Gwangmyeong</a> / <a href=\"/wiki/Seodongtan_station\" title=\"Seodongtan station\">Seodongtan</a>\n",
      "</td>, <td>98\n",
      "</td>, <td>200.6 km<sup class=\"reference\" id=\"cite_ref-Korail-Metro_22-0\"><a href=\"#cite_note-Korail-Metro-22\">[21]</a></sup><sup class=\"reference\" id=\"cite_ref-Seoul-Subway-stats_23-0\"><a href=\"#cite_note-Seoul-Subway-stats-23\">[22]</a></sup><sup class=\"reference\" id=\"cite_ref-24\"><a href=\"#cite_note-24\">[Note 2]</a></sup>\n",
      "</td>, <td>1974\n",
      "</td>, <td>2010\n",
      "</td>, <td><a href=\"/wiki/Korail\" title=\"Korail\">Korail</a>/<a href=\"/wiki/Seoul_Metro\" title=\"Seoul Metro\">Seoul Metro</a>\n",
      "</td>, <td><a href=\"/wiki/Government_of_South_Korea\" title=\"Government of South Korea\">Government of South Korea</a> / <a href=\"/wiki/Seoul_Metropolitan_Government\" title=\"Seoul Metropolitan Government\">Seoul Metropolitan Government</a>\n",
      "</td>]\n"
     ]
    }
   ],
   "source": [
    "print(subway_image)"
   ]
  },
  {
   "cell_type": "code",
   "execution_count": 6,
   "metadata": {},
   "outputs": [],
   "source": [
    "#mw-content-text > div > table:nth-child(3) > tbody > tr:nth-child(2) > td > a > img"
   ]
  },
  {
   "cell_type": "code",
   "execution_count": 7,
   "metadata": {},
   "outputs": [],
   "source": [
    "subway_image2=soup.select('tr > td > a > img')"
   ]
  },
  {
   "cell_type": "code",
   "execution_count": 8,
   "metadata": {},
   "outputs": [
    {
     "name": "stdout",
     "output_type": "stream",
     "text": [
      "[<img alt=\"South Korea subway logo.svg\" data-file-height=\"450\" data-file-width=\"450\" decoding=\"async\" height=\"75\" src=\"//upload.wikimedia.org/wikipedia/commons/thumb/1/12/South_Korea_subway_logo.svg/75px-South_Korea_subway_logo.svg.png\" srcset=\"//upload.wikimedia.org/wikipedia/commons/thumb/1/12/South_Korea_subway_logo.svg/113px-South_Korea_subway_logo.svg.png 1.5x, //upload.wikimedia.org/wikipedia/commons/thumb/1/12/South_Korea_subway_logo.svg/150px-South_Korea_subway_logo.svg.png 2x\" width=\"75\"/>, <img alt=\"Seoul-Metro-2004-20070722.jpg\" data-file-height=\"2100\" data-file-width=\"2800\" decoding=\"async\" height=\"169\" src=\"//upload.wikimedia.org/wikipedia/commons/thumb/2/29/Seoul-Metro-2004-20070722.jpg/225px-Seoul-Metro-2004-20070722.jpg\" srcset=\"//upload.wikimedia.org/wikipedia/commons/thumb/2/29/Seoul-Metro-2004-20070722.jpg/338px-Seoul-Metro-2004-20070722.jpg 1.5x, //upload.wikimedia.org/wikipedia/commons/thumb/2/29/Seoul-Metro-2004-20070722.jpg/450px-Seoul-Metro-2004-20070722.jpg 2x\" width=\"225\"/>]\n"
     ]
    }
   ],
   "source": [
    "print(subway_image2)"
   ]
  },
  {
   "cell_type": "code",
   "execution_count": null,
   "metadata": {},
   "outputs": [],
   "source": []
  }
 ],
 "metadata": {
  "kernelspec": {
   "display_name": "Python 3",
   "language": "python",
   "name": "python3"
  },
  "language_info": {
   "codemirror_mode": {
    "name": "ipython",
    "version": 3
   },
   "file_extension": ".py",
   "mimetype": "text/x-python",
   "name": "python",
   "nbconvert_exporter": "python",
   "pygments_lexer": "ipython3",
   "version": "3.7.4"
  }
 },
 "nbformat": 4,
 "nbformat_minor": 2
}
