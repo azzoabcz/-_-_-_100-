{
 "cells": [
  {
   "cell_type": "code",
   "execution_count": 1,
   "metadata": {},
   "outputs": [],
   "source": [
    "import requests"
   ]
  },
  {
   "cell_type": "code",
   "execution_count": 2,
   "metadata": {},
   "outputs": [],
   "source": [
    "urls = [\"https://naver.com/\", \"https://www.python.org/\"]\n",
    "filename = \"robots.txt\""
   ]
  },
  {
   "cell_type": "code",
   "execution_count": 6,
   "metadata": {},
   "outputs": [
    {
     "name": "stdout",
     "output_type": "stream",
     "text": [
      "https://naver.com/robots.txt\n",
      "User-agent: *\n",
      "Disallow: /\n",
      "Allow : /$ \n",
      "\n",
      "=============\n",
      "https://www.python.org/robots.txt\n",
      "# Directions for robots.  See this URL:\n",
      "# http://www.robotstxt.org/robotstxt.html\n",
      "# for a description of the file format.\n",
      "\n",
      "User-agent: HTTrack\n",
      "User-agent: puf\n",
      "User-agent: MSIECrawler\n",
      "Disallow: /\n",
      "\n",
      "# The Krugle web crawler (though based on Nutch) is OK.\n",
      "User-agent: Krugle\n",
      "Allow: /\n",
      "Disallow: /~guido/orlijn/\n",
      "Disallow: /webstats/\n",
      "\n",
      "# No one should be crawling us with Nutch.\n",
      "User-agent: Nutch\n",
      "Disallow: /\n",
      "\n",
      "# Hide old versions of the documentation and various large sets of files.\n",
      "User-agent: *\n",
      "Disallow: /~guido/orlijn/\n",
      "Disallow: /webstats/\n",
      "\n",
      "=============\n"
     ]
    }
   ],
   "source": [
    "for url in urls:\n",
    "    file_path = url + filename\n",
    "    print(file_path)\n",
    "    resp = requests.get(file_path)\n",
    "    print(resp.text)\n",
    "    print(\"=============\")"
   ]
  },
  {
   "cell_type": "code",
   "execution_count": null,
   "metadata": {},
   "outputs": [],
   "source": []
  }
 ],
 "metadata": {
  "kernelspec": {
   "display_name": "Python 3",
   "language": "python",
   "name": "python3"
  },
  "language_info": {
   "codemirror_mode": {
    "name": "ipython",
    "version": 3
   },
   "file_extension": ".py",
   "mimetype": "text/x-python",
   "name": "python",
   "nbconvert_exporter": "python",
   "pygments_lexer": "ipython3",
   "version": "3.7.4"
  }
 },
 "nbformat": 4,
 "nbformat_minor": 2
}
